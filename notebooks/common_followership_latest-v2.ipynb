{
 "cells": [
  {
   "cell_type": "markdown",
   "id": "708ac4e6",
   "metadata": {},
   "source": [
    "### Importing Spark Libraries"
   ]
  },
  {
   "cell_type": "code",
   "execution_count": null,
   "id": "7adcd17d",
   "metadata": {},
   "outputs": [],
   "source": [
    "import time\n",
    "start = time.time()"
   ]
  },
  {
   "cell_type": "code",
   "execution_count": null,
   "id": "71f688b0",
   "metadata": {},
   "outputs": [],
   "source": [
    "from datetime import datetime, timedelta\n",
    "\n",
    "# Spark libraries\n",
    "from pyspark.context import SparkContext\n",
    "from pyspark.sql.session import SparkSession\n",
    "from pyspark.sql.functions import desc\n",
    "from pyspark.sql.functions import explode\n",
    "import pyspark.sql.functions as f\n",
    "from pyspark.sql.functions import *\n",
    "from pyspark.sql.types import IntegerType, StringType\n",
    "from pyspark.sql.window import Window"
   ]
  },
  {
   "cell_type": "markdown",
   "id": "3fe634b2",
   "metadata": {},
   "source": [
    "### Creating Spark context"
   ]
  },
  {
   "cell_type": "code",
   "execution_count": null,
   "id": "884f05e8",
   "metadata": {},
   "outputs": [],
   "source": [
    "sc = SparkContext.getOrCreate()\n",
    "spark = SparkSession(sc)"
   ]
  },
  {
   "cell_type": "markdown",
   "id": "e858e7dc",
   "metadata": {},
   "source": [
    "### Reading User followers data"
   ]
  },
  {
   "cell_type": "code",
   "execution_count": null,
   "id": "f9989ff5",
   "metadata": {},
   "outputs": [],
   "source": [
    "# Parameters\n",
    "partition_dt= datetime.today().date()\n",
    "\n",
    "# Reading file Path\n",
    "dir_path_ufl = \"s3://aws-glue-neptune-data/postgre-data-lake/user_followers_list/\"\n",
    "#file_path_ufl = dir_path_ufl +\"partition=\"+str(partition_dt)+\"/\"\n",
    "file_path_ufl = dir_path_ufl +\"partition=\"+\"2022-03-01\"+\"/\"\n",
    "\n",
    "print(file_path_ufl)"
   ]
  },
  {
   "cell_type": "markdown",
   "id": "79e3674f",
   "metadata": {},
   "source": [
    "\n",
    "### Reading only IFs for a user"
   ]
  },
  {
   "cell_type": "code",
   "execution_count": null,
   "id": "de49f682",
   "metadata": {},
   "outputs": [],
   "source": [
    "# Considering only IFs\n",
    "df_user_followers_raw = spark.read.format('parquet').load(file_path_ufl).\\\n",
    "selectExpr('user_id','individual_follower_ids as follower_ids').withColumn(\"num_followers\", size(\"follower_ids\"))"
   ]
  },
  {
   "cell_type": "markdown",
   "id": "022835a9",
   "metadata": {},
   "source": [
    "**We have 14 million users in this table**"
   ]
  },
  {
   "cell_type": "code",
   "execution_count": null,
   "id": "843e98c1",
   "metadata": {},
   "outputs": [],
   "source": [
    "df_user_followers_raw.select('user_id').count()"
   ]
  },
  {
   "cell_type": "code",
   "execution_count": null,
   "id": "5b34e6f0",
   "metadata": {},
   "outputs": [],
   "source": [
    "df_user_followers_raw.printSchema()"
   ]
  },
  {
   "cell_type": "markdown",
   "id": "ecd1896f",
   "metadata": {},
   "source": [
    "### Total Users"
   ]
  },
  {
   "cell_type": "code",
   "execution_count": null,
   "id": "6b2a9f5f",
   "metadata": {},
   "outputs": [],
   "source": [
    "df_user_followers_raw.select('user_id').count()"
   ]
  },
  {
   "cell_type": "markdown",
   "id": "c549ba12",
   "metadata": {},
   "source": [
    "#### Removing user who don't have any IF (no of IFs >0) and applying another filter no of IFs < 500k"
   ]
  },
  {
   "cell_type": "code",
   "execution_count": null,
   "id": "bb656a1f",
   "metadata": {},
   "outputs": [],
   "source": [
    "#AND num_followers<=500000\n",
    "df_user_followers=df_user_followers_raw.filter(\"num_followers>=100\")"
   ]
  },
  {
   "cell_type": "code",
   "execution_count": null,
   "id": "5b8a21d2",
   "metadata": {},
   "outputs": [],
   "source": [
    "df_user_followers.registerTempTable(\"user_followers_raw\")"
   ]
  },
  {
   "cell_type": "markdown",
   "id": "6b2bb8e2",
   "metadata": {},
   "source": [
    "####  Total Users after removing users who  have at least 1000 IF AND users who have less than 500k followers"
   ]
  },
  {
   "cell_type": "code",
   "execution_count": null,
   "id": "05871807",
   "metadata": {},
   "outputs": [],
   "source": [
    "df_user_followers_raw.select('user_id').distinct().count()"
   ]
  },
  {
   "cell_type": "markdown",
   "id": "55579f1d",
   "metadata": {},
   "source": [
    "#### Remove users who follow more than 1k people"
   ]
  },
  {
   "cell_type": "code",
   "execution_count": null,
   "id": "e36d4149",
   "metadata": {},
   "outputs": [],
   "source": [
    "# # Reading file Path\n",
    "# dir_path_ufol = \"s3://aws-glue-neptune-data/postgre-data-lake/user_followings_list_v2/\"\n",
    "# #file_path_ufl = dir_path_ufl +\"partition=\"+str(partition_dt)+\"/\"\n",
    "# file_path_ufol = dir_path_ufol +\"partition=\"+\"2022-03-01\"+\"/\""
   ]
  },
  {
   "cell_type": "markdown",
   "id": "2883cbc2",
   "metadata": {},
   "source": [
    "#### Getting userids from user followings table which have following more than 1k"
   ]
  },
  {
   "cell_type": "code",
   "execution_count": null,
   "id": "eb34d4d7",
   "metadata": {},
   "outputs": [],
   "source": [
    "# df_user_followings = spark.read.format('parquet').load(file_path_ufol).\\\n",
    "# filter('following_count>1000').select('user_id')"
   ]
  },
  {
   "cell_type": "markdown",
   "id": "21484147",
   "metadata": {},
   "source": [
    "#### There are 10k such users who have following > 1k"
   ]
  },
  {
   "cell_type": "code",
   "execution_count": null,
   "id": "45fd683a",
   "metadata": {},
   "outputs": [],
   "source": [
    "df_user_followings.select('user_id').count()"
   ]
  },
  {
   "cell_type": "markdown",
   "id": "fa0aa489",
   "metadata": {},
   "source": [
    "**Next step is to unnest the IFs for these users**"
   ]
  },
  {
   "cell_type": "code",
   "execution_count": null,
   "id": "fbe41d60",
   "metadata": {},
   "outputs": [],
   "source": [
    "# Making array as string for us to be able to explode\n",
    "df_user_followers = df_user_followers.withColumn(\"follower_ids\",\n",
    "   concat_ws(\",\",col(\"follower_ids\")))"
   ]
  },
  {
   "cell_type": "code",
   "execution_count": null,
   "id": "cbcb1687",
   "metadata": {},
   "outputs": [],
   "source": [
    "df_user_followers = df_user_followers.withColumn(\"follower_id\",\n",
    "                                                 explode(split(col(\"follower_ids\"), \",\"))).drop(\"follower_ids\")"
   ]
  },
  {
   "cell_type": "code",
   "execution_count": null,
   "id": "dcc5f7be",
   "metadata": {},
   "outputs": [],
   "source": [
    "df_user_followers.select('user_id').distinct().count()"
   ]
  },
  {
   "cell_type": "markdown",
   "id": "821d46d5",
   "metadata": {},
   "source": [
    "#### Removing followerids who have following>1k from user followers table"
   ]
  },
  {
   "cell_type": "markdown",
   "id": "c44558f0",
   "metadata": {},
   "source": [
    "#### Relaxing this condition"
   ]
  },
  {
   "cell_type": "code",
   "execution_count": null,
   "id": "4ce0760a",
   "metadata": {},
   "outputs": [],
   "source": [
    "# df_user_followers = df_user_followers.join(df_user_followings, \n",
    "#                                            df_user_followers['follower_id'] == df_user_followings['user_id'], \n",
    "#                                            'leftanti')"
   ]
  },
  {
   "cell_type": "markdown",
   "id": "97d84c57",
   "metadata": {},
   "source": [
    "#### We are left with only 8k users"
   ]
  },
  {
   "cell_type": "code",
   "execution_count": null,
   "id": "7cc63c97",
   "metadata": {},
   "outputs": [],
   "source": [
    "df_user_followers.select('user_id').distinct().count()"
   ]
  },
  {
   "cell_type": "code",
   "execution_count": null,
   "id": "7b4d8bbe",
   "metadata": {},
   "outputs": [],
   "source": [
    "df_user_followers.registerTempTable(\"user_followers\")"
   ]
  },
  {
   "cell_type": "code",
   "execution_count": null,
   "id": "f7836fa6",
   "metadata": {},
   "outputs": [],
   "source": [
    "query = \"\"\"SELECT user_id, follower_id,CAST(mod(follower_id,100) as INT) as mod_follower\n",
    "FROM user_followers\n",
    "\"\"\""
   ]
  },
  {
   "cell_type": "code",
   "execution_count": null,
   "id": "fea73dde",
   "metadata": {},
   "outputs": [],
   "source": [
    "df_user_followers = spark.sql(query)\n",
    "df_user_followers = df_user_followers.repartition('mod_follower')"
   ]
  },
  {
   "cell_type": "code",
   "execution_count": null,
   "id": "6dbe9de0",
   "metadata": {},
   "outputs": [],
   "source": [
    "df_user_followers.registerTempTable(\"user_followers\")"
   ]
  },
  {
   "cell_type": "code",
   "execution_count": null,
   "id": "f783d432",
   "metadata": {},
   "outputs": [],
   "source": [
    "df_user_followers.printSchema()"
   ]
  },
  {
   "cell_type": "markdown",
   "id": "7b0d5b57",
   "metadata": {},
   "source": [
    "### Adding IF  count for both userid and followerid"
   ]
  },
  {
   "cell_type": "code",
   "execution_count": null,
   "id": "9b8d8ede",
   "metadata": {},
   "outputs": [],
   "source": [
    "# log 10 of zero would be null, so removing users who have zero IF\n",
    "query= \"\"\"\n",
    "SELECT uf.user_id,uf.follower_id,\n",
    "ufr.num_followers as usr_followers,\n",
    "CAST(log10(ufr.num_followers) AS INT) as usr_lgf, \n",
    "uf.mod_follower\n",
    "FROM user_followers uf\n",
    "LEFT JOIN user_followers_raw ufr\n",
    "ON (uf.user_id=ufr.user_id)\n",
    "\"\"\""
   ]
  },
  {
   "cell_type": "code",
   "execution_count": null,
   "id": "1f37b726",
   "metadata": {},
   "outputs": [],
   "source": [
    "df_user_followers = spark.sql(query)"
   ]
  },
  {
   "cell_type": "code",
   "execution_count": null,
   "id": "a73cb776",
   "metadata": {},
   "outputs": [],
   "source": [
    "df_user_followers.show()"
   ]
  },
  {
   "cell_type": "code",
   "execution_count": null,
   "id": "ab8588d0",
   "metadata": {},
   "outputs": [],
   "source": [
    "df_user_followers.printSchema()"
   ]
  },
  {
   "cell_type": "code",
   "execution_count": null,
   "id": "0f1db731",
   "metadata": {},
   "outputs": [],
   "source": [
    "df_user_followers.registerTempTable(\"user_followers\")"
   ]
  },
  {
   "cell_type": "code",
   "execution_count": null,
   "id": "c7ca45f5",
   "metadata": {},
   "outputs": [],
   "source": [
    "spark.conf.set(\"spark.sql.shuffle.partitions\",2001)"
   ]
  },
  {
   "cell_type": "code",
   "execution_count": null,
   "id": "664250b5",
   "metadata": {},
   "outputs": [],
   "source": [
    "query=\"\"\"WITH user_follower\n",
    "AS\n",
    "(\n",
    "    SELECT user_id, follower_id, mod_follower, usr_followers,usr_lgf,mod_follower\n",
    "    FROM user_followers\n",
    ")\n",
    "SELECT a.user_id,a.follower_id,b.user_id as other_followed_user,a.mod_follower\n",
    "FROM user_follower a \n",
    "JOIN user_follower b\n",
    "ON (a.follower_id=b.follower_id AND abs(a.usr_lgf-b.usr_lgf)<=1 AND a.mod_follower=b.mod_follower)\n",
    "WHERE a.user_id<b.user_id AND b.usr_lgf IS NOT NULL \n",
    "\"\"\"\n",
    "#print(query)"
   ]
  },
  {
   "cell_type": "code",
   "execution_count": null,
   "id": "426612c4",
   "metadata": {},
   "outputs": [],
   "source": [
    "uf_joined = spark.sql(query)"
   ]
  },
  {
   "cell_type": "code",
   "execution_count": null,
   "id": "cec8e67a",
   "metadata": {},
   "outputs": [],
   "source": [
    "uf_joined.printSchema()"
   ]
  },
  {
   "cell_type": "code",
   "execution_count": null,
   "id": "01c2e524",
   "metadata": {},
   "outputs": [],
   "source": [
    "import time\n",
    "start = time.time()\n",
    "uf_joined.count()\n",
    "end = time.time()\n",
    "print(end - start)"
   ]
  },
  {
   "cell_type": "code",
   "execution_count": null,
   "id": "0e37f682",
   "metadata": {},
   "outputs": [],
   "source": [
    "### Aggregating to get the number of followers"
   ]
  },
  {
   "cell_type": "code",
   "execution_count": null,
   "id": "63b977b5",
   "metadata": {},
   "outputs": [],
   "source": [
    "uf_joined = uf_joined.repartition('mod_follower')\n",
    "uf_joined.registerTempTable(\"common_user_followers\")"
   ]
  },
  {
   "cell_type": "code",
   "execution_count": null,
   "id": "275d8983",
   "metadata": {},
   "outputs": [],
   "source": [
    "# query=\"\"\"select user_id,other_followed_user, count(follower_id) as common_followers\n",
    "# FROM common_user_followers\n",
    "# GROUP BY user_id,other_followed_user\"\"\""
   ]
  },
  {
   "cell_type": "code",
   "execution_count": null,
   "id": "36f06e4b",
   "metadata": {},
   "outputs": [],
   "source": [
    "# cf_ct = spark.sql(query)"
   ]
  },
  {
   "cell_type": "code",
   "execution_count": null,
   "id": "eb752e65",
   "metadata": {},
   "outputs": [],
   "source": [
    "# cf_ct = uf_joined.groupBy(\"mod_follower\",\"user_id\",\"other_followed_user\").agg(f.expr('count(follower_id)')\\\n",
    "#                               .alias('common_followers'))"
   ]
  },
  {
   "cell_type": "code",
   "execution_count": null,
   "id": "4878a019",
   "metadata": {},
   "outputs": [],
   "source": [
    "cf_ct = uf_joined.groupBy(\"user_id\",\"other_followed_user\").agg(f.expr('count(follower_id)')\\\n",
    "                               .alias('common_followers'))"
   ]
  },
  {
   "cell_type": "code",
   "execution_count": null,
   "id": "698010e0",
   "metadata": {
    "scrolled": false
   },
   "outputs": [],
   "source": [
    "import time\n",
    "start = time.time()\n",
    "\n",
    "cf_ct.count()\n",
    "\n",
    "end = time.time()\n",
    "print(end - start)"
   ]
  },
  {
   "cell_type": "markdown",
   "id": "8fe11c3b",
   "metadata": {},
   "source": [
    "#### Adding inverse and union to have all the possible combinations"
   ]
  },
  {
   "cell_type": "code",
   "execution_count": null,
   "id": "f956ef88",
   "metadata": {},
   "outputs": [],
   "source": [
    "cf_ct_inv = cf_ct.select('other_followed_user','user_id','common_followers')"
   ]
  },
  {
   "cell_type": "code",
   "execution_count": null,
   "id": "b3dd83e3",
   "metadata": {},
   "outputs": [],
   "source": [
    "cf_ct = cf_ct.union(cf_ct_inv)\n"
   ]
  },
  {
   "cell_type": "code",
   "execution_count": null,
   "id": "f743e379",
   "metadata": {},
   "outputs": [],
   "source": [
    "cf_ct.select('user_id').distinct().count()"
   ]
  },
  {
   "cell_type": "markdown",
   "id": "17f3ab2c",
   "metadata": {},
   "source": [
    "#### Common users between 162 and 470"
   ]
  },
  {
   "cell_type": "code",
   "execution_count": null,
   "id": "2a366741",
   "metadata": {},
   "outputs": [],
   "source": [
    "# common followers are 26634 without any conditions\n",
    "#  26056\n",
    "cf_ct.filter(\"user_id=162 AND other_followed_user=470\").show()"
   ]
  },
  {
   "cell_type": "code",
   "execution_count": null,
   "id": "7a80977d",
   "metadata": {},
   "outputs": [],
   "source": [
    "#cf_ct.filter(\"user_id=10462628 AND other_followed_user=14039248\").show()"
   ]
  },
  {
   "cell_type": "code",
   "execution_count": null,
   "id": "3c82299e",
   "metadata": {},
   "outputs": [],
   "source": [
    "#### Common users between Raj and Harsh"
   ]
  },
  {
   "cell_type": "code",
   "execution_count": null,
   "id": "cf835df1",
   "metadata": {},
   "outputs": [],
   "source": [
    "cf_ct.filter(\"user_id=470 AND other_followed_user=162\").show()"
   ]
  },
  {
   "cell_type": "code",
   "execution_count": null,
   "id": "86944829",
   "metadata": {},
   "outputs": [],
   "source": [
    "#cf_ct.filter(\"user_id=14039248 AND other_followed_user=10462628\").show()"
   ]
  },
  {
   "cell_type": "markdown",
   "id": "0e308e21",
   "metadata": {},
   "source": [
    "### Adding IF  count for both the user pairs and calculating jaccard distance"
   ]
  },
  {
   "cell_type": "code",
   "execution_count": null,
   "id": "38799829",
   "metadata": {},
   "outputs": [],
   "source": [
    "# Reading user followers again\n",
    "partition_dt= datetime.today().date()\n",
    "\n",
    "# Reading file Path\n",
    "dir_path_ufl = \"s3://aws-glue-neptune-data/postgre-data-lake/user_followers_list/\"\n",
    "#file_path_ufl = dir_path_ufl +\"partition=\"+str(partition_dt)+\"/\"\n",
    "file_path_ufl = dir_path_ufl +\"partition=\"+\"2022-03-01\"+\"/\"\n",
    "\n",
    "print(file_path_ufl)\n",
    "\n",
    "# Considering only IFs\n",
    "df_user_followers = spark.read.format('parquet').load(file_path_ufl).\\\n",
    "selectExpr('user_id','individual_follower_ids as follower_ids')\n",
    "#AND no_of_followers<500000\n",
    "df_user_followers=df_user_followers.withColumn(\"no_of_followers\", size(\"follower_ids\")).\\\n",
    "filter(\"no_of_followers>=100\")"
   ]
  },
  {
   "cell_type": "code",
   "execution_count": null,
   "id": "1e0bfc20",
   "metadata": {},
   "outputs": [],
   "source": [
    "cf_ct = cf_ct.join(df_user_followers,\n",
    "                   cf_ct['user_id'] == df_user_followers['user_id'], \n",
    "                                           'left').select(cf_ct['user_id'],col('other_followed_user'),\n",
    "                                                    col(\"no_of_followers\").alias(\"u1_followers\")\n",
    "                                                          ,col(\"common_followers\"))"
   ]
  },
  {
   "cell_type": "code",
   "execution_count": null,
   "id": "02c88fcb",
   "metadata": {},
   "outputs": [],
   "source": [
    "cf_ct = cf_ct.join(df_user_followers,cf_ct['other_followed_user'] == df_user_followers['user_id'], \n",
    "                                           'left').select(cf_ct['user_id'],col('other_followed_user'),col('u1_followers'),col(\"no_of_followers\").alias(\"u2_followers\"),col(\"common_followers\"))"
   ]
  },
  {
   "cell_type": "code",
   "execution_count": null,
   "id": "12477cb6",
   "metadata": {},
   "outputs": [],
   "source": [
    "cf_ct.printSchema()"
   ]
  },
  {
   "cell_type": "code",
   "execution_count": null,
   "id": "30f32f25",
   "metadata": {},
   "outputs": [],
   "source": [
    "# F(A)+F(B) - common followers = F(AUB)\n",
    "# # JD = 1- (F(AUB)/F(A intersection B))\n",
    "\n",
    "# cf_ct = spark.sql(\"cf_ct.*,((f.common_followers)/(u1_followers+u2_followers-common_followers)) as jaccard )\n",
    "cf_ct = cf_ct.withColumn('jaccard', \n",
    "                         expr(\"ROUND(((common_followers)/(u1_followers+u2_followers-common_followers)),4)\"))"
   ]
  },
  {
   "cell_type": "code",
   "execution_count": null,
   "id": "f98c11fb",
   "metadata": {},
   "outputs": [],
   "source": [
    "cf_ct.filter(\"user_id=470 AND other_followed_user=162\").show()"
   ]
  },
  {
   "cell_type": "code",
   "execution_count": null,
   "id": "b45d54f7",
   "metadata": {},
   "outputs": [],
   "source": [
    "cf_ct.filter(\"user_id=162 AND other_followed_user=470\").show()"
   ]
  },
  {
   "cell_type": "markdown",
   "id": "be1f581a",
   "metadata": {},
   "source": [
    "### Writing the result to s3 "
   ]
  },
  {
   "cell_type": "code",
   "execution_count": null,
   "id": "9c4ec459",
   "metadata": {},
   "outputs": [],
   "source": [
    "# 7 mins to write data\n",
    "#s3://ml-test-analytics/test/stg-glue/common_followers/"
   ]
  },
  {
   "cell_type": "code",
   "execution_count": null,
   "id": "83178fbb",
   "metadata": {},
   "outputs": [],
   "source": [
    "import time\n",
    "start = time.time()\n",
    "cf_ct.write.mode('overwrite').parquet(\"s3://ml-test-analytics/test/stg-glue/user_common_followers_raw/\")\n",
    "\n",
    "end = time.time()\n",
    "print(end - start)"
   ]
  },
  {
   "cell_type": "code",
   "execution_count": null,
   "id": "381aaff8",
   "metadata": {},
   "outputs": [],
   "source": []
  }
 ],
 "metadata": {
  "kernelspec": {
   "display_name": "PySpark",
   "language": "",
   "name": "pysparkkernel"
  },
  "language_info": {
   "codemirror_mode": {
    "name": "python",
    "version": 3
   },
   "mimetype": "text/x-python",
   "name": "pyspark",
   "pygments_lexer": "python3"
  }
 },
 "nbformat": 4,
 "nbformat_minor": 5
}
