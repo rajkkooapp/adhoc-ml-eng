{
 "cells": [
  {
   "cell_type": "code",
   "execution_count": 100,
   "id": "a7ef24de",
   "metadata": {},
   "outputs": [
    {
     "data": {
      "application/vnd.jupyter.widget-view+json": {
       "model_id": "2058d8a2bda74bd3a09c6bdee5315eb7",
       "version_major": 2,
       "version_minor": 0
      },
      "text/plain": [
       "VBox()"
      ]
     },
     "metadata": {},
     "output_type": "display_data"
    },
    {
     "data": {
      "application/vnd.jupyter.widget-view+json": {
       "model_id": "",
       "version_major": 2,
       "version_minor": 0
      },
      "text/plain": [
       "FloatProgress(value=0.0, bar_style='info', description='Progress:', layout=Layout(height='25px', width='50%'),…"
      ]
     },
     "metadata": {},
     "output_type": "display_data"
    }
   ],
   "source": [
    "import time\n",
    "start = time.time()"
   ]
  },
  {
   "cell_type": "code",
   "execution_count": 101,
   "id": "f551f505",
   "metadata": {},
   "outputs": [
    {
     "data": {
      "application/vnd.jupyter.widget-view+json": {
       "model_id": "e2d5ce79ee8649e2ad464f59a6ca30fb",
       "version_major": 2,
       "version_minor": 0
      },
      "text/plain": [
       "VBox()"
      ]
     },
     "metadata": {},
     "output_type": "display_data"
    },
    {
     "data": {
      "application/vnd.jupyter.widget-view+json": {
       "model_id": "",
       "version_major": 2,
       "version_minor": 0
      },
      "text/plain": [
       "FloatProgress(value=0.0, bar_style='info', description='Progress:', layout=Layout(height='25px', width='50%'),…"
      ]
     },
     "metadata": {},
     "output_type": "display_data"
    }
   ],
   "source": [
    "import time\n",
    "from pyspark.context import SparkContext\n",
    "from pyspark.sql.session import SparkSession\n",
    "from pyspark.sql.functions import desc\n",
    "from pyspark.sql.functions import explode\n",
    "import pyspark.sql.functions as F\n",
    "from pyspark.sql.types import IntegerType, StringType\n",
    "from pyspark.sql.window import Window\n",
    "from pyspark.sql.functions import rank, col,row_number\n",
    "\n",
    "# l = [10,18,20]\n",
    "# df.filter(F.col(\"score\").isin(l))"
   ]
  },
  {
   "cell_type": "code",
   "execution_count": 102,
   "id": "eac78080",
   "metadata": {},
   "outputs": [
    {
     "data": {
      "application/vnd.jupyter.widget-view+json": {
       "model_id": "4d851dfb74a649baace5c94a4db16e0b",
       "version_major": 2,
       "version_minor": 0
      },
      "text/plain": [
       "VBox()"
      ]
     },
     "metadata": {},
     "output_type": "display_data"
    },
    {
     "data": {
      "application/vnd.jupyter.widget-view+json": {
       "model_id": "",
       "version_major": 2,
       "version_minor": 0
      },
      "text/plain": [
       "FloatProgress(value=0.0, bar_style='info', description='Progress:', layout=Layout(height='25px', width='50%'),…"
      ]
     },
     "metadata": {},
     "output_type": "display_data"
    }
   ],
   "source": [
    "sc = SparkContext.getOrCreate()\n",
    "spark = SparkSession(sc)"
   ]
  },
  {
   "cell_type": "markdown",
   "id": "10b9c5b4",
   "metadata": {},
   "source": [
    "## Reading all datasets needed from s3"
   ]
  },
  {
   "cell_type": "markdown",
   "id": "d79620b2",
   "metadata": {},
   "source": [
    "### Reading User followings"
   ]
  },
  {
   "cell_type": "code",
   "execution_count": 103,
   "id": "8728c368",
   "metadata": {},
   "outputs": [
    {
     "data": {
      "application/vnd.jupyter.widget-view+json": {
       "model_id": "ba5732bd6c104373abd100e5f0a46009",
       "version_major": 2,
       "version_minor": 0
      },
      "text/plain": [
       "VBox()"
      ]
     },
     "metadata": {},
     "output_type": "display_data"
    },
    {
     "data": {
      "application/vnd.jupyter.widget-view+json": {
       "model_id": "",
       "version_major": 2,
       "version_minor": 0
      },
      "text/plain": [
       "FloatProgress(value=0.0, bar_style='info', description='Progress:', layout=Layout(height='25px', width='50%'),…"
      ]
     },
     "metadata": {},
     "output_type": "display_data"
    }
   ],
   "source": [
    "file_path_uf = \"s3://aws-glue-neptune-data/postgre-data-lake/user_followings_list_v2/partition=2022-02-03/\"\n",
    "user_followings_list = spark.read.format('parquet').load(file_path_uf).\\\n",
    "select('user_id', 'following_ids','following_count')\n",
    "user_followings_list = user_followings_list.filter(\"following_count>0 AND following_count<=300\").\\\n",
    "select('user_id', 'following_ids')"
   ]
  },
  {
   "cell_type": "code",
   "execution_count": 104,
   "id": "865634ed",
   "metadata": {},
   "outputs": [
    {
     "data": {
      "application/vnd.jupyter.widget-view+json": {
       "model_id": "71c752a90abe48d2b217fb380ccaa445",
       "version_major": 2,
       "version_minor": 0
      },
      "text/plain": [
       "VBox()"
      ]
     },
     "metadata": {},
     "output_type": "display_data"
    },
    {
     "data": {
      "application/vnd.jupyter.widget-view+json": {
       "model_id": "",
       "version_major": 2,
       "version_minor": 0
      },
      "text/plain": [
       "FloatProgress(value=0.0, bar_style='info', description='Progress:', layout=Layout(height='25px', width='50%'),…"
      ]
     },
     "metadata": {},
     "output_type": "display_data"
    },
    {
     "name": "stdout",
     "output_type": "stream",
     "text": [
      "root\n",
      " |-- user_id: integer (nullable = true)\n",
      " |-- following_ids: array (nullable = true)\n",
      " |    |-- element: integer (containsNull = true)"
     ]
    }
   ],
   "source": [
    "user_followings_list.printSchema()"
   ]
  },
  {
   "cell_type": "markdown",
   "id": "58131eb1",
   "metadata": {},
   "source": [
    "### Reading User folllowers"
   ]
  },
  {
   "cell_type": "code",
   "execution_count": 105,
   "id": "5c16f459",
   "metadata": {},
   "outputs": [
    {
     "data": {
      "application/vnd.jupyter.widget-view+json": {
       "model_id": "7f9360ecf3d44803952081cd3008da1e",
       "version_major": 2,
       "version_minor": 0
      },
      "text/plain": [
       "VBox()"
      ]
     },
     "metadata": {},
     "output_type": "display_data"
    },
    {
     "data": {
      "application/vnd.jupyter.widget-view+json": {
       "model_id": "",
       "version_major": 2,
       "version_minor": 0
      },
      "text/plain": [
       "FloatProgress(value=0.0, bar_style='info', description='Progress:', layout=Layout(height='25px', width='50%'),…"
      ]
     },
     "metadata": {},
     "output_type": "display_data"
    }
   ],
   "source": [
    "file_path_ufollowers = \"s3://aws-glue-neptune-data/postgre-data-lake/user_followers_list/\"\n",
    "user_followers_list = spark.read.format('parquet').load(file_path_ufollowers).\\\n",
    "select('user_id', 'follower_ids')\n",
    "#user_followers_list = user_followers_list.filter(\"followers_count>0 AND followers_count<=300\").\\\n",
    "#select('user_id', 'follower_ids')"
   ]
  },
  {
   "cell_type": "code",
   "execution_count": 106,
   "id": "ba4929fa",
   "metadata": {},
   "outputs": [
    {
     "data": {
      "application/vnd.jupyter.widget-view+json": {
       "model_id": "5bc548798e844634ad50402b4ee100a7",
       "version_major": 2,
       "version_minor": 0
      },
      "text/plain": [
       "VBox()"
      ]
     },
     "metadata": {},
     "output_type": "display_data"
    },
    {
     "data": {
      "application/vnd.jupyter.widget-view+json": {
       "model_id": "",
       "version_major": 2,
       "version_minor": 0
      },
      "text/plain": [
       "FloatProgress(value=0.0, bar_style='info', description='Progress:', layout=Layout(height='25px', width='50%'),…"
      ]
     },
     "metadata": {},
     "output_type": "display_data"
    },
    {
     "name": "stdout",
     "output_type": "stream",
     "text": [
      "root\n",
      " |-- user_id: integer (nullable = true)\n",
      " |-- follower_ids: array (nullable = true)\n",
      " |    |-- element: integer (containsNull = true)"
     ]
    }
   ],
   "source": [
    "user_followers_list.printSchema()"
   ]
  },
  {
   "cell_type": "markdown",
   "id": "ba0a62b6",
   "metadata": {},
   "source": [
    "### Reading Users table"
   ]
  },
  {
   "cell_type": "code",
   "execution_count": 107,
   "id": "dd0dfb39",
   "metadata": {},
   "outputs": [
    {
     "data": {
      "application/vnd.jupyter.widget-view+json": {
       "model_id": "31e1e93f8d2a498a9adef8e570170fd6",
       "version_major": 2,
       "version_minor": 0
      },
      "text/plain": [
       "VBox()"
      ]
     },
     "metadata": {},
     "output_type": "display_data"
    },
    {
     "data": {
      "application/vnd.jupyter.widget-view+json": {
       "model_id": "",
       "version_major": 2,
       "version_minor": 0
      },
      "text/plain": [
       "FloatProgress(value=0.0, bar_style='info', description='Progress:', layout=Layout(height='25px', width='50%'),…"
      ]
     },
     "metadata": {},
     "output_type": "display_data"
    }
   ],
   "source": [
    "file_path_users= \"s3://aws-glue-neptune-data/postgre-data-lake/users/partition=2022-02-03/\"\n",
    "users = spark.read.format('parquet').load(file_path_users).\\\n",
    "select('id', 'current_language')\n",
    "users= users.withColumnRenamed(\"id\",\"user_id\")\n"
   ]
  },
  {
   "cell_type": "code",
   "execution_count": 108,
   "id": "e751c04d",
   "metadata": {},
   "outputs": [
    {
     "data": {
      "application/vnd.jupyter.widget-view+json": {
       "model_id": "e2b55fff011e4d94aa1b551ae5b13c53",
       "version_major": 2,
       "version_minor": 0
      },
      "text/plain": [
       "VBox()"
      ]
     },
     "metadata": {},
     "output_type": "display_data"
    },
    {
     "data": {
      "application/vnd.jupyter.widget-view+json": {
       "model_id": "",
       "version_major": 2,
       "version_minor": 0
      },
      "text/plain": [
       "FloatProgress(value=0.0, bar_style='info', description='Progress:', layout=Layout(height='25px', width='50%'),…"
      ]
     },
     "metadata": {},
     "output_type": "display_data"
    },
    {
     "name": "stdout",
     "output_type": "stream",
     "text": [
      "root\n",
      " |-- user_id: integer (nullable = true)\n",
      " |-- current_language: short (nullable = true)"
     ]
    }
   ],
   "source": [
    "users.printSchema()"
   ]
  },
  {
   "cell_type": "markdown",
   "id": "b6ed90b7",
   "metadata": {},
   "source": [
    "### People Score"
   ]
  },
  {
   "cell_type": "code",
   "execution_count": 109,
   "id": "69b2755e",
   "metadata": {},
   "outputs": [
    {
     "data": {
      "application/vnd.jupyter.widget-view+json": {
       "model_id": "58d9c0bb347148cf90c7d72411098b02",
       "version_major": 2,
       "version_minor": 0
      },
      "text/plain": [
       "VBox()"
      ]
     },
     "metadata": {},
     "output_type": "display_data"
    },
    {
     "data": {
      "application/vnd.jupyter.widget-view+json": {
       "model_id": "",
       "version_major": 2,
       "version_minor": 0
      },
      "text/plain": [
       "FloatProgress(value=0.0, bar_style='info', description='Progress:', layout=Layout(height='25px', width='50%'),…"
      ]
     },
     "metadata": {},
     "output_type": "display_data"
    }
   ],
   "source": [
    "file_path_scores= \"s3://aws-glue-neptune-data/postgre-data-lake/user_scores_log_v2/partition=2022-02-03/\"\n",
    "people_score = spark.read.format('parquet').load(file_path_scores).\\\n",
    "select('user_id','language' ,'final_score')"
   ]
  },
  {
   "cell_type": "code",
   "execution_count": 110,
   "id": "1e3a47e0",
   "metadata": {},
   "outputs": [
    {
     "data": {
      "application/vnd.jupyter.widget-view+json": {
       "model_id": "e2b793e518c5410e9dd61409637fee80",
       "version_major": 2,
       "version_minor": 0
      },
      "text/plain": [
       "VBox()"
      ]
     },
     "metadata": {},
     "output_type": "display_data"
    },
    {
     "data": {
      "application/vnd.jupyter.widget-view+json": {
       "model_id": "",
       "version_major": 2,
       "version_minor": 0
      },
      "text/plain": [
       "FloatProgress(value=0.0, bar_style='info', description='Progress:', layout=Layout(height='25px', width='50%'),…"
      ]
     },
     "metadata": {},
     "output_type": "display_data"
    },
    {
     "name": "stdout",
     "output_type": "stream",
     "text": [
      "root\n",
      " |-- user_id: integer (nullable = true)\n",
      " |-- language: short (nullable = true)\n",
      " |-- final_score: decimal(10,2) (nullable = true)"
     ]
    }
   ],
   "source": [
    "people_score.printSchema()"
   ]
  },
  {
   "cell_type": "markdown",
   "id": "1089054a",
   "metadata": {},
   "source": [
    "### Consideration Set"
   ]
  },
  {
   "cell_type": "code",
   "execution_count": 111,
   "id": "964657a8",
   "metadata": {},
   "outputs": [
    {
     "data": {
      "application/vnd.jupyter.widget-view+json": {
       "model_id": "34a8a31e74734e84a12255f2571b0b95",
       "version_major": 2,
       "version_minor": 0
      },
      "text/plain": [
       "VBox()"
      ]
     },
     "metadata": {},
     "output_type": "display_data"
    },
    {
     "data": {
      "application/vnd.jupyter.widget-view+json": {
       "model_id": "",
       "version_major": 2,
       "version_minor": 0
      },
      "text/plain": [
       "FloatProgress(value=0.0, bar_style='info', description='Progress:', layout=Layout(height='25px', width='50%'),…"
      ]
     },
     "metadata": {},
     "output_type": "display_data"
    }
   ],
   "source": [
    "file_path_users= \"s3://ml-test-analytics/test/stg_rfy/consideration_set/cs_users_20220203_173818.csv\"\n",
    "cs_users_df = spark.read.csv(\n",
    "    file_path_users, \n",
    "    header=True)\n",
    "cs_users_df = cs_users_df.select('user_id')"
   ]
  },
  {
   "cell_type": "code",
   "execution_count": 112,
   "id": "94a44e16",
   "metadata": {},
   "outputs": [
    {
     "data": {
      "application/vnd.jupyter.widget-view+json": {
       "model_id": "698f2702898645cc8c9c31de9f52e3a7",
       "version_major": 2,
       "version_minor": 0
      },
      "text/plain": [
       "VBox()"
      ]
     },
     "metadata": {},
     "output_type": "display_data"
    },
    {
     "data": {
      "application/vnd.jupyter.widget-view+json": {
       "model_id": "",
       "version_major": 2,
       "version_minor": 0
      },
      "text/plain": [
       "FloatProgress(value=0.0, bar_style='info', description='Progress:', layout=Layout(height='25px', width='50%'),…"
      ]
     },
     "metadata": {},
     "output_type": "display_data"
    },
    {
     "name": "stdout",
     "output_type": "stream",
     "text": [
      "root\n",
      " |-- user_id: string (nullable = true)"
     ]
    }
   ],
   "source": [
    "cs_users_df.printSchema()"
   ]
  },
  {
   "cell_type": "code",
   "execution_count": 113,
   "id": "782aa64a",
   "metadata": {},
   "outputs": [
    {
     "data": {
      "application/vnd.jupyter.widget-view+json": {
       "model_id": "5b65f22e23a04667b143871181385a46",
       "version_major": 2,
       "version_minor": 0
      },
      "text/plain": [
       "VBox()"
      ]
     },
     "metadata": {},
     "output_type": "display_data"
    },
    {
     "data": {
      "application/vnd.jupyter.widget-view+json": {
       "model_id": "",
       "version_major": 2,
       "version_minor": 0
      },
      "text/plain": [
       "FloatProgress(value=0.0, bar_style='info', description='Progress:', layout=Layout(height='25px', width='50%'),…"
      ]
     },
     "metadata": {},
     "output_type": "display_data"
    }
   ],
   "source": [
    "cs_users_df = cs_users_df.withColumnRenamed(\"user_id\",\"cs_user_id\")\n",
    "cs_users_df = cs_users_df.withColumn(\"cs_user_id\",cs_users_df[\"cs_user_id\"].cast(IntegerType()))"
   ]
  },
  {
   "cell_type": "markdown",
   "id": "168f4f1e",
   "metadata": {},
   "source": [
    "#### For testing with a smaller subset "
   ]
  },
  {
   "cell_type": "code",
   "execution_count": 114,
   "id": "91d15f67",
   "metadata": {},
   "outputs": [
    {
     "data": {
      "application/vnd.jupyter.widget-view+json": {
       "model_id": "0f21209f92e4417992224fbcb5bbb7d6",
       "version_major": 2,
       "version_minor": 0
      },
      "text/plain": [
       "VBox()"
      ]
     },
     "metadata": {},
     "output_type": "display_data"
    },
    {
     "data": {
      "application/vnd.jupyter.widget-view+json": {
       "model_id": "",
       "version_major": 2,
       "version_minor": 0
      },
      "text/plain": [
       "FloatProgress(value=0.0, bar_style='info', description='Progress:', layout=Layout(height='25px', width='50%'),…"
      ]
     },
     "metadata": {},
     "output_type": "display_data"
    }
   ],
   "source": [
    "#cs_users_df = cs_users_df.limit(10)"
   ]
  },
  {
   "cell_type": "markdown",
   "id": "4e2c96ff",
   "metadata": {},
   "source": [
    "### Following list consideration set"
   ]
  },
  {
   "cell_type": "code",
   "execution_count": 115,
   "id": "5aaf3e25",
   "metadata": {},
   "outputs": [
    {
     "data": {
      "application/vnd.jupyter.widget-view+json": {
       "model_id": "9723602b00a14e2d973282a83c60fb3b",
       "version_major": 2,
       "version_minor": 0
      },
      "text/plain": [
       "VBox()"
      ]
     },
     "metadata": {},
     "output_type": "display_data"
    },
    {
     "data": {
      "application/vnd.jupyter.widget-view+json": {
       "model_id": "",
       "version_major": 2,
       "version_minor": 0
      },
      "text/plain": [
       "FloatProgress(value=0.0, bar_style='info', description='Progress:', layout=Layout(height='25px', width='50%'),…"
      ]
     },
     "metadata": {},
     "output_type": "display_data"
    }
   ],
   "source": [
    "cs_ufl = cs_users_df.join(user_followings_list, \n",
    "                               cs_users_df.cs_user_id == user_followings_list.user_id,\n",
    "                               \"inner\")"
   ]
  },
  {
   "cell_type": "markdown",
   "id": "86494175",
   "metadata": {},
   "source": [
    "#### Exploding Users following"
   ]
  },
  {
   "cell_type": "code",
   "execution_count": 116,
   "id": "5ca39b16",
   "metadata": {},
   "outputs": [
    {
     "data": {
      "application/vnd.jupyter.widget-view+json": {
       "model_id": "0d70cbe82c1e465a9efaeb1454839f0b",
       "version_major": 2,
       "version_minor": 0
      },
      "text/plain": [
       "VBox()"
      ]
     },
     "metadata": {},
     "output_type": "display_data"
    },
    {
     "data": {
      "application/vnd.jupyter.widget-view+json": {
       "model_id": "",
       "version_major": 2,
       "version_minor": 0
      },
      "text/plain": [
       "FloatProgress(value=0.0, bar_style='info', description='Progress:', layout=Layout(height='25px', width='50%'),…"
      ]
     },
     "metadata": {},
     "output_type": "display_data"
    }
   ],
   "source": [
    "cs_ufl_exp = cs_ufl.select(cs_ufl.cs_user_id,explode(cs_ufl.following_ids).alias('cs_following_user_id'))"
   ]
  },
  {
   "cell_type": "code",
   "execution_count": 117,
   "id": "d54a4eec",
   "metadata": {},
   "outputs": [
    {
     "data": {
      "application/vnd.jupyter.widget-view+json": {
       "model_id": "9f4fc528c5134057b35be68e4228d80e",
       "version_major": 2,
       "version_minor": 0
      },
      "text/plain": [
       "VBox()"
      ]
     },
     "metadata": {},
     "output_type": "display_data"
    },
    {
     "data": {
      "application/vnd.jupyter.widget-view+json": {
       "model_id": "",
       "version_major": 2,
       "version_minor": 0
      },
      "text/plain": [
       "FloatProgress(value=0.0, bar_style='info', description='Progress:', layout=Layout(height='25px', width='50%'),…"
      ]
     },
     "metadata": {},
     "output_type": "display_data"
    },
    {
     "name": "stdout",
     "output_type": "stream",
     "text": [
      "root\n",
      " |-- cs_user_id: integer (nullable = true)\n",
      " |-- cs_following_user_id: integer (nullable = true)"
     ]
    }
   ],
   "source": [
    "cs_ufl_exp.printSchema()"
   ]
  },
  {
   "cell_type": "markdown",
   "id": "2e117e90",
   "metadata": {},
   "source": [
    "### Followers list consideration set"
   ]
  },
  {
   "cell_type": "code",
   "execution_count": 118,
   "id": "72fe7217",
   "metadata": {},
   "outputs": [
    {
     "data": {
      "application/vnd.jupyter.widget-view+json": {
       "model_id": "9282b13805a549bba999c28fa84d4d02",
       "version_major": 2,
       "version_minor": 0
      },
      "text/plain": [
       "VBox()"
      ]
     },
     "metadata": {},
     "output_type": "display_data"
    },
    {
     "data": {
      "application/vnd.jupyter.widget-view+json": {
       "model_id": "",
       "version_major": 2,
       "version_minor": 0
      },
      "text/plain": [
       "FloatProgress(value=0.0, bar_style='info', description='Progress:', layout=Layout(height='25px', width='50%'),…"
      ]
     },
     "metadata": {},
     "output_type": "display_data"
    }
   ],
   "source": [
    "cs_ufol = cs_users_df.join(user_followers_list, \n",
    "                               cs_users_df.cs_user_id == user_followers_list.user_id,\n",
    "                               \"inner\")"
   ]
  },
  {
   "cell_type": "markdown",
   "id": "d892529a",
   "metadata": {},
   "source": [
    "#### Exploding Users followers"
   ]
  },
  {
   "cell_type": "code",
   "execution_count": 119,
   "id": "49a47c0a",
   "metadata": {},
   "outputs": [
    {
     "data": {
      "application/vnd.jupyter.widget-view+json": {
       "model_id": "483737fa71b9458bb139466617bb1e4b",
       "version_major": 2,
       "version_minor": 0
      },
      "text/plain": [
       "VBox()"
      ]
     },
     "metadata": {},
     "output_type": "display_data"
    },
    {
     "data": {
      "application/vnd.jupyter.widget-view+json": {
       "model_id": "",
       "version_major": 2,
       "version_minor": 0
      },
      "text/plain": [
       "FloatProgress(value=0.0, bar_style='info', description='Progress:', layout=Layout(height='25px', width='50%'),…"
      ]
     },
     "metadata": {},
     "output_type": "display_data"
    }
   ],
   "source": [
    "cs_ufol_exp = cs_ufol.select(cs_ufol.cs_user_id,explode(cs_ufol.follower_ids).alias('cs_follower_user_id'))"
   ]
  },
  {
   "cell_type": "code",
   "execution_count": 120,
   "id": "6c45f326",
   "metadata": {},
   "outputs": [
    {
     "data": {
      "application/vnd.jupyter.widget-view+json": {
       "model_id": "f0f89443cc924fc7bba10a3e2c25db0f",
       "version_major": 2,
       "version_minor": 0
      },
      "text/plain": [
       "VBox()"
      ]
     },
     "metadata": {},
     "output_type": "display_data"
    },
    {
     "data": {
      "application/vnd.jupyter.widget-view+json": {
       "model_id": "",
       "version_major": 2,
       "version_minor": 0
      },
      "text/plain": [
       "FloatProgress(value=0.0, bar_style='info', description='Progress:', layout=Layout(height='25px', width='50%'),…"
      ]
     },
     "metadata": {},
     "output_type": "display_data"
    },
    {
     "name": "stdout",
     "output_type": "stream",
     "text": [
      "root\n",
      " |-- cs_user_id: integer (nullable = true)\n",
      " |-- cs_follower_user_id: integer (nullable = true)"
     ]
    }
   ],
   "source": [
    "cs_ufol_exp.printSchema()"
   ]
  },
  {
   "cell_type": "markdown",
   "id": "f119806b",
   "metadata": {},
   "source": [
    "#### Subtracting user's followers from the user's following, is what they can follow back"
   ]
  },
  {
   "cell_type": "code",
   "execution_count": 121,
   "id": "6b7db42e",
   "metadata": {},
   "outputs": [
    {
     "data": {
      "application/vnd.jupyter.widget-view+json": {
       "model_id": "16c0db3beb9b46c6ae117d6f237b1eba",
       "version_major": 2,
       "version_minor": 0
      },
      "text/plain": [
       "VBox()"
      ]
     },
     "metadata": {},
     "output_type": "display_data"
    },
    {
     "data": {
      "application/vnd.jupyter.widget-view+json": {
       "model_id": "",
       "version_major": 2,
       "version_minor": 0
      },
      "text/plain": [
       "FloatProgress(value=0.0, bar_style='info', description='Progress:', layout=Layout(height='25px', width='50%'),…"
      ]
     },
     "metadata": {},
     "output_type": "display_data"
    }
   ],
   "source": [
    "fb_potential_df =cs_ufol_exp.subtract(cs_ufl_exp)"
   ]
  },
  {
   "cell_type": "code",
   "execution_count": 122,
   "id": "e91950f8",
   "metadata": {},
   "outputs": [
    {
     "data": {
      "application/vnd.jupyter.widget-view+json": {
       "model_id": "92291ab5755141ce9594df27bbb978e5",
       "version_major": 2,
       "version_minor": 0
      },
      "text/plain": [
       "VBox()"
      ]
     },
     "metadata": {},
     "output_type": "display_data"
    },
    {
     "data": {
      "application/vnd.jupyter.widget-view+json": {
       "model_id": "",
       "version_major": 2,
       "version_minor": 0
      },
      "text/plain": [
       "FloatProgress(value=0.0, bar_style='info', description='Progress:', layout=Layout(height='25px', width='50%'),…"
      ]
     },
     "metadata": {},
     "output_type": "display_data"
    },
    {
     "name": "stdout",
     "output_type": "stream",
     "text": [
      "root\n",
      " |-- cs_user_id: integer (nullable = true)\n",
      " |-- cs_follower_user_id: integer (nullable = true)"
     ]
    }
   ],
   "source": [
    "fb_potential_df.printSchema()"
   ]
  },
  {
   "cell_type": "code",
   "execution_count": 123,
   "id": "5054d95c",
   "metadata": {},
   "outputs": [
    {
     "data": {
      "application/vnd.jupyter.widget-view+json": {
       "model_id": "b032ed2142864170bbd783c04707b22c",
       "version_major": 2,
       "version_minor": 0
      },
      "text/plain": [
       "VBox()"
      ]
     },
     "metadata": {},
     "output_type": "display_data"
    },
    {
     "data": {
      "application/vnd.jupyter.widget-view+json": {
       "model_id": "",
       "version_major": 2,
       "version_minor": 0
      },
      "text/plain": [
       "FloatProgress(value=0.0, bar_style='info', description='Progress:', layout=Layout(height='25px', width='50%'),…"
      ]
     },
     "metadata": {},
     "output_type": "display_data"
    }
   ],
   "source": [
    "# Now we have to filter folks whose language are same as cs_user_id"
   ]
  },
  {
   "cell_type": "code",
   "execution_count": 124,
   "id": "a3772189",
   "metadata": {},
   "outputs": [
    {
     "data": {
      "application/vnd.jupyter.widget-view+json": {
       "model_id": "0dafd2d6a8004de48bb4244eee8bdffb",
       "version_major": 2,
       "version_minor": 0
      },
      "text/plain": [
       "VBox()"
      ]
     },
     "metadata": {},
     "output_type": "display_data"
    },
    {
     "data": {
      "application/vnd.jupyter.widget-view+json": {
       "model_id": "",
       "version_major": 2,
       "version_minor": 0
      },
      "text/plain": [
       "FloatProgress(value=0.0, bar_style='info', description='Progress:', layout=Layout(height='25px', width='50%'),…"
      ]
     },
     "metadata": {},
     "output_type": "display_data"
    }
   ],
   "source": [
    "# Getting the user id language\n",
    "fb_potential_df = fb_potential_df.join(users, \n",
    "                               fb_potential_df.cs_user_id == users.user_id,\n",
    "                               \"left\").select(fb_potential_df['cs_user_id'],fb_potential_df['cs_follower_user_id'],users['current_language'].alias('cl_cs_user_id'))\n",
    "# Getting the follower id language\n",
    "fb_potential_df = fb_potential_df.join(users, \n",
    "                               fb_potential_df.cs_follower_user_id == users.user_id,\n",
    "                               \"left\").select(fb_potential_df['cs_user_id'],fb_potential_df['cs_follower_user_id'],fb_potential_df['cl_cs_user_id'],users['current_language'].alias('cl_cs_follower_user_id'))\n",
    "\n",
    "# Filter Recommendations where language is not matching\n",
    "fb_potential_df= fb_potential_df.filter(\"cl_cs_user_id=cl_cs_follower_user_id\")\n",
    "\n",
    "#fb_potential_df= fb_potential_df.filter(\"cl_cs_user_id=cl_cs_follower_user_id\").drop('cl_cs_user_id','cl_cs_follower_user_id')\n",
    "#fb_potential_df.show()"
   ]
  },
  {
   "cell_type": "code",
   "execution_count": 125,
   "id": "b6d9dd9d",
   "metadata": {},
   "outputs": [
    {
     "data": {
      "application/vnd.jupyter.widget-view+json": {
       "model_id": "b06a1160d9074197bf229e758e2d7a87",
       "version_major": 2,
       "version_minor": 0
      },
      "text/plain": [
       "VBox()"
      ]
     },
     "metadata": {},
     "output_type": "display_data"
    },
    {
     "data": {
      "application/vnd.jupyter.widget-view+json": {
       "model_id": "",
       "version_major": 2,
       "version_minor": 0
      },
      "text/plain": [
       "FloatProgress(value=0.0, bar_style='info', description='Progress:', layout=Layout(height='25px', width='50%'),…"
      ]
     },
     "metadata": {},
     "output_type": "display_data"
    }
   ],
   "source": [
    "# Now filter folks whose people score are greater than 2 \n",
    "# and also dropping follower users whose people score in same language is null or not found"
   ]
  },
  {
   "cell_type": "code",
   "execution_count": 126,
   "id": "989c9ca8",
   "metadata": {},
   "outputs": [
    {
     "data": {
      "application/vnd.jupyter.widget-view+json": {
       "model_id": "c707e199a88d4853aa5bef240db8f2b4",
       "version_major": 2,
       "version_minor": 0
      },
      "text/plain": [
       "VBox()"
      ]
     },
     "metadata": {},
     "output_type": "display_data"
    },
    {
     "data": {
      "application/vnd.jupyter.widget-view+json": {
       "model_id": "",
       "version_major": 2,
       "version_minor": 0
      },
      "text/plain": [
       "FloatProgress(value=0.0, bar_style='info', description='Progress:', layout=Layout(height='25px', width='50%'),…"
      ]
     },
     "metadata": {},
     "output_type": "display_data"
    }
   ],
   "source": [
    "fb_potential_df  = fb_potential_df .join(people_score,\n",
    "                                        (fb_potential_df.cs_follower_user_id == people_score.user_id) &\n",
    "                                        (fb_potential_df.cl_cs_follower_user_id == people_score.language),\n",
    "                                        how='left').\\\n",
    "select(fb_potential_df['cs_user_id'],fb_potential_df['cs_follower_user_id'], people_score['final_score']).\\\n",
    "filter(\"final_score>=2.0\")"
   ]
  },
  {
   "cell_type": "code",
   "execution_count": 127,
   "id": "c48b8318",
   "metadata": {},
   "outputs": [
    {
     "data": {
      "application/vnd.jupyter.widget-view+json": {
       "model_id": "7f77c8419cc24db3b1fd1d5731c5f1cc",
       "version_major": 2,
       "version_minor": 0
      },
      "text/plain": [
       "VBox()"
      ]
     },
     "metadata": {},
     "output_type": "display_data"
    },
    {
     "data": {
      "application/vnd.jupyter.widget-view+json": {
       "model_id": "",
       "version_major": 2,
       "version_minor": 0
      },
      "text/plain": [
       "FloatProgress(value=0.0, bar_style='info', description='Progress:', layout=Layout(height='25px', width='50%'),…"
      ]
     },
     "metadata": {},
     "output_type": "display_data"
    }
   ],
   "source": [
    "#fb_potential_df.show()"
   ]
  },
  {
   "cell_type": "code",
   "execution_count": 128,
   "id": "b98c8648",
   "metadata": {},
   "outputs": [
    {
     "data": {
      "application/vnd.jupyter.widget-view+json": {
       "model_id": "db2df0c6b71d457ab391074dc68ef1ba",
       "version_major": 2,
       "version_minor": 0
      },
      "text/plain": [
       "VBox()"
      ]
     },
     "metadata": {},
     "output_type": "display_data"
    },
    {
     "data": {
      "application/vnd.jupyter.widget-view+json": {
       "model_id": "",
       "version_major": 2,
       "version_minor": 0
      },
      "text/plain": [
       "FloatProgress(value=0.0, bar_style='info', description='Progress:', layout=Layout(height='25px', width='50%'),…"
      ]
     },
     "metadata": {},
     "output_type": "display_data"
    }
   ],
   "source": [
    "fb_potential_df.write.parquet(\"s3://ml-test-analytics/test/stg_rfy/stg_fb/dryrun/\",mode=\"overwrite\")"
   ]
  },
  {
   "cell_type": "code",
   "execution_count": 129,
   "id": "85dc5bb6",
   "metadata": {},
   "outputs": [
    {
     "data": {
      "application/vnd.jupyter.widget-view+json": {
       "model_id": "5c5623d251404a4a9f737b807b2bb727",
       "version_major": 2,
       "version_minor": 0
      },
      "text/plain": [
       "VBox()"
      ]
     },
     "metadata": {},
     "output_type": "display_data"
    },
    {
     "data": {
      "application/vnd.jupyter.widget-view+json": {
       "model_id": "",
       "version_major": 2,
       "version_minor": 0
      },
      "text/plain": [
       "FloatProgress(value=0.0, bar_style='info', description='Progress:', layout=Layout(height='25px', width='50%'),…"
      ]
     },
     "metadata": {},
     "output_type": "display_data"
    }
   ],
   "source": [
    "window = Window.partitionBy(fb_potential_df['cs_user_id']).orderBy(fb_potential_df['final_score'].desc())\n",
    "fb_ranked= fb_potential_df.select('*', row_number().over(window).alias('rank')).\\\n",
    "  filter(col('rank') <= 100).select('cs_user_id', 'cs_follower_user_id','final_score')"
   ]
  },
  {
   "cell_type": "code",
   "execution_count": 130,
   "id": "a161de04",
   "metadata": {},
   "outputs": [
    {
     "data": {
      "application/vnd.jupyter.widget-view+json": {
       "model_id": "7bfc47dad95741539959d6813a1fc638",
       "version_major": 2,
       "version_minor": 0
      },
      "text/plain": [
       "VBox()"
      ]
     },
     "metadata": {},
     "output_type": "display_data"
    },
    {
     "data": {
      "application/vnd.jupyter.widget-view+json": {
       "model_id": "",
       "version_major": 2,
       "version_minor": 0
      },
      "text/plain": [
       "FloatProgress(value=0.0, bar_style='info', description='Progress:', layout=Layout(height='25px', width='50%'),…"
      ]
     },
     "metadata": {},
     "output_type": "display_data"
    }
   ],
   "source": [
    "#fb_ranked.show()"
   ]
  },
  {
   "cell_type": "code",
   "execution_count": 131,
   "id": "f75ba0d4",
   "metadata": {},
   "outputs": [
    {
     "data": {
      "application/vnd.jupyter.widget-view+json": {
       "model_id": "2ad6a3e43d464d40be7db20a3c6f5e53",
       "version_major": 2,
       "version_minor": 0
      },
      "text/plain": [
       "VBox()"
      ]
     },
     "metadata": {},
     "output_type": "display_data"
    },
    {
     "data": {
      "application/vnd.jupyter.widget-view+json": {
       "model_id": "",
       "version_major": 2,
       "version_minor": 0
      },
      "text/plain": [
       "FloatProgress(value=0.0, bar_style='info', description='Progress:', layout=Layout(height='25px', width='50%'),…"
      ]
     },
     "metadata": {},
     "output_type": "display_data"
    }
   ],
   "source": [
    "fb_ranked.write.parquet(\"s3://ml-test-analytics/test/stg_rfy/stg_fb/dryrun-top100/\",mode=\"overwrite\")\n"
   ]
  },
  {
   "cell_type": "code",
   "execution_count": 132,
   "id": "c6c57fcf",
   "metadata": {},
   "outputs": [
    {
     "data": {
      "application/vnd.jupyter.widget-view+json": {
       "model_id": "ac76b584639d4dd890762df468a8bbbb",
       "version_major": 2,
       "version_minor": 0
      },
      "text/plain": [
       "VBox()"
      ]
     },
     "metadata": {},
     "output_type": "display_data"
    },
    {
     "data": {
      "application/vnd.jupyter.widget-view+json": {
       "model_id": "",
       "version_major": 2,
       "version_minor": 0
      },
      "text/plain": [
       "FloatProgress(value=0.0, bar_style='info', description='Progress:', layout=Layout(height='25px', width='50%'),…"
      ]
     },
     "metadata": {},
     "output_type": "display_data"
    },
    {
     "name": "stdout",
     "output_type": "stream",
     "text": [
      "67.01146674156189"
     ]
    }
   ],
   "source": [
    "end = time.time()\n",
    "print(end - start)"
   ]
  }
 ],
 "metadata": {
  "kernelspec": {
   "display_name": "PySpark",
   "language": "",
   "name": "pysparkkernel"
  },
  "language_info": {
   "codemirror_mode": {
    "name": "python",
    "version": 3
   },
   "mimetype": "text/x-python",
   "name": "pyspark",
   "pygments_lexer": "python3"
  }
 },
 "nbformat": 4,
 "nbformat_minor": 5
}
